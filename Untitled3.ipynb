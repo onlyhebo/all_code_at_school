{
 "cells": [
  {
   "cell_type": "code",
   "execution_count": 23,
   "metadata": {},
   "outputs": [
    {
     "name": "stdout",
     "output_type": "stream",
     "text": [
      "122\n",
      "12\n"
     ]
    }
   ],
   "source": [
    "def transform(decimalVar, base):\n",
    "    tempList = []\n",
    "    temp = decimalVar\n",
    "    i = 0\n",
    "    while (temp > 0):\n",
    "        ord = temp % base\n",
    "        if (ord > 9): #如果余数大于9，则以字母的形式表示\n",
    "            ord = chr(65 + (ord - 10))   #把数字转换成字符\n",
    "        tempList.append(ord)\n",
    "        temp = int(temp / base)\n",
    "        i = i + 1\n",
    "    tempList.reverse();\n",
    "    #print(tempList)\n",
    "    binary = \"\"\n",
    "    for j in range(len(tempList)):\n",
    "        binary = binary + str(tempList[j]);\n",
    "    print(\"the decimal is: %d and after convering by %d base is %s\"%(decimalVar, base, binary))\n",
    "num = int(input()) #输入一个十进制的数\n",
    "bas = int(input()) #输入一个待转化十进制\n",
    "transform(num,bas)"
   ]
  },
  {
   "cell_type": "code",
   "execution_count": 24,
   "metadata": {},
   "outputs": [
    {
     "name": "stdout",
     "output_type": "stream",
     "text": [
      "the decimal is: 122 and after convering by 12 base is A2\n"
     ]
    }
   ],
   "source": []
  },
  {
   "cell_type": "code",
   "execution_count": 14,
   "metadata": {},
   "outputs": [
    {
     "name": "stdout",
     "output_type": "stream",
     "text": [
      "the decimal is: 255 and after convering by 20 base is CF\n"
     ]
    }
   ],
   "source": [
    "decimalToNBaseByNormal(255, 20)"
   ]
  },
  {
   "cell_type": "code",
   "execution_count": null,
   "metadata": {},
   "outputs": [],
   "source": []
  }
 ],
 "metadata": {
  "kernelspec": {
   "display_name": "Python 3",
   "language": "python",
   "name": "python3"
  },
  "language_info": {
   "codemirror_mode": {
    "name": "ipython",
    "version": 3
   },
   "file_extension": ".py",
   "mimetype": "text/x-python",
   "name": "python",
   "nbconvert_exporter": "python",
   "pygments_lexer": "ipython3",
   "version": "3.6.4"
  }
 },
 "nbformat": 4,
 "nbformat_minor": 2
}
