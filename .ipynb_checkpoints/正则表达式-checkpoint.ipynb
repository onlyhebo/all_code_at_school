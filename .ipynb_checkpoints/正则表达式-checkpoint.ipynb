{
 "cells": [
  {
   "cell_type": "code",
   "execution_count": 1,
   "metadata": {},
   "outputs": [
    {
     "name": "stdout",
     "output_type": "stream",
     "text": [
      "Hello 123 4567 World_This is a Regex Demo\n",
      "<_sre.SRE_Match object; span=(0, 41), match='Hello 123 4567 World_This is a Regex Demo'>\n",
      "Hello 123 4567 World_This is a Regex Demo\n",
      "(0, 41)\n"
     ]
    }
   ],
   "source": [
    "import re  \n",
    "content = 'Hello 123 4567 World_This is a Regex Demo'\n",
    "print(content)\n",
    "result = re.match('^Hello\\s\\d\\d\\d\\s\\d{4}\\s\\w{10}.*Demo$',content)\n",
    "print(result)\n",
    "print(result.group())\n",
    "print(result.span())"
   ]
  },
  {
   "cell_type": "code",
   "execution_count": 2,
   "metadata": {},
   "outputs": [
    {
     "name": "stdout",
     "output_type": "stream",
     "text": [
      "<_sre.SRE_Match object; span=(0, 41), match='Hello 123 4567 World_This is a Regex Demo'>\n"
     ]
    }
   ],
   "source": [
    "import re\n",
    "contet =  'Hello 1234567 World_This is a Regex Demo'\n",
    "result = re.match(\"^Hello.*Demo$\",content)\n",
    "print(result)"
   ]
  },
  {
   "cell_type": "code",
   "execution_count": 24,
   "metadata": {},
   "outputs": [
    {
     "name": "stdout",
     "output_type": "stream",
     "text": [
      "<_sre.SRE_Match object; span=(0, 40), match='Hello 1234567 World_This is a Regex Demo'>\n",
      "1234567\n",
      "(0, 40)\n"
     ]
    }
   ],
   "source": [
    "import re\n",
    "content =  'Hello 1234567 World_This is a Regex Demo'\n",
    "result = re.match('^Hello\\s(\\d+)\\sWorld.*Demo$',content)\n",
    "print(result)\n",
    "print(result.group(1))\n",
    "print(result.span())"
   ]
  },
  {
   "cell_type": "code",
   "execution_count": 38,
   "metadata": {},
   "outputs": [
    {
     "name": "stdout",
     "output_type": "stream",
     "text": [
      "齐秦 往事随风\n"
     ]
    }
   ],
   "source": [
    "import re\n",
    "\n",
    "html = '''<div id=\"songs-list\">\n",
    "    <h2 class=\"title\">经典老歌</h2>\n",
    "    <p class=\"introduction\">\n",
    "        经典老歌列表\n",
    "    </p>\n",
    "    <ul id=\"list\" class=\"list-group\">\n",
    "        <li data-view=\"2\">一路上有你</li>\n",
    "        <li data-view=\"7\">\n",
    "            <a href=\"/2.mp3\" singer=\"任贤齐\">沧海一声笑</a>\n",
    "        </li>\n",
    "        <li data-view=\"4\" class=\"active\">\n",
    "            <a href=\"/3.mp3\" singer=\"齐秦\">往事随风</a>\n",
    "        </li>\n",
    "        <li data-view=\"6\"><a href=\"/4.mp3\" singer=\"beyond\">光辉岁月</a></li>\n",
    "        <li data-view=\"5\"><a href=\"/5.mp3\" singer=\"陈慧琳\">记事本</a></li>\n",
    "        <li data-view=\"5\">\n",
    "            <a href=\"/6.mp3\" singer=\"邓丽君\"><i class=\"fa fa-user\"></i>但愿人长久</a>\n",
    "        </li>\n",
    "    </ul>\n",
    "</div>'''\n",
    "result = re.search('<li.*active.*?singer=\"(.*?)\">(.*?)</a>',html,re.S)\n",
    "if result:\n",
    "    print(result.group(1),result.group(2))"
   ]
  },
  {
   "cell_type": "code",
   "execution_count": 49,
   "metadata": {},
   "outputs": [
    {
     "name": "stdout",
     "output_type": "stream",
     "text": [
      "[('/2.mp3', '任贤齐', '沧海一声笑'), ('/3.mp3', '齐秦', '往事随风'), ('/4.mp3', 'beyond', '光辉岁月'), ('/5.mp3', '陈慧琳', '记事本'), ('/6.mp3', '邓丽君', '但愿人长久')]\n",
      "<class 'list'>\n",
      "('/2.mp3', '任贤齐', '沧海一声笑')\n",
      "/2.mp3 任贤齐 沧海一声笑\n",
      "('/3.mp3', '齐秦', '往事随风')\n",
      "/3.mp3 齐秦 往事随风\n",
      "('/4.mp3', 'beyond', '光辉岁月')\n",
      "/4.mp3 beyond 光辉岁月\n",
      "('/5.mp3', '陈慧琳', '记事本')\n",
      "/5.mp3 陈慧琳 记事本\n",
      "('/6.mp3', '邓丽君', '但愿人长久')\n",
      "/6.mp3 邓丽君 但愿人长久\n"
     ]
    }
   ],
   "source": [
    "import re\n",
    "\n",
    "html = '''<div id=\"songs-list\">\n",
    "    <h2 class=\"title\">经典老歌</h2>\n",
    "    <p class=\"introduction\">\n",
    "        经典老歌列表\n",
    "    </p>\n",
    "    <ul id=\"list\" class=\"list-group\">\n",
    "        <li data-view=\"2\">一路上有你</li>\n",
    "        <li data-view=\"7\">\n",
    "            <a href=\"/2.mp3\" singer=\"任贤齐\">沧海一声笑</a>\n",
    "        </li>\n",
    "        <li data-view=\"4\" class=\"active\">\n",
    "            <a href=\"/3.mp3\" singer=\"齐秦\">往事随风</a>\n",
    "        </li>\n",
    "        <li data-view=\"6\"><a href=\"/4.mp3\" singer=\"beyond\">光辉岁月</a></li>\n",
    "        <li data-view=\"5\"><a href=\"/5.mp3\" singer=\"陈慧琳\">记事本</a></li>\n",
    "        <li data-view=\"5\">\n",
    "            <a href=\"/6.mp3\" singer=\"邓丽君\">但愿人长久</a>\n",
    "        </li>\n",
    "    </ul>\n",
    "</div>'''\n",
    "result = re.findall('li.*?href=\"(.*?)\".*?singer=\"(.*?)\">(.*?)</a>',html,re.S)\n",
    "print(result)\n",
    "print(type(result))\n",
    "for i in result:\n",
    "    print(i)\n",
    "    print(i[0],i[1],i[2])"
   ]
  },
  {
   "cell_type": "code",
   "execution_count": 20,
   "metadata": {
    "scrolled": true
   },
   "outputs": [
    {
     "name": "stdout",
     "output_type": "stream",
     "text": [
      "[('', '一路上有你', ''), ('', '\\n            <a href=\"/2.mp3\" singer=\"任贤齐\">沧海一声笑</a>\\n        ', ''), ('', '\\n            <a href=\"/3.mp3\" singer=\"齐秦\">往事随风</a>\\n        ', ''), ('<a href=\"/4.mp3\" singer=\"beyond\">', '光辉岁月', '</a>'), ('<a href=\"/5.mp3\" singer=\"陈慧琳\">', '记事本', '</a>'), ('', '\\n            <a href=\"/6.mp3\" singer=\"邓丽君\">但愿人长久</a>\\n        ', '')]\n",
      "一路上有你\n",
      "\n",
      "            <a href=\"/2.mp3\" singer=\"任贤齐\">沧海一声笑</a>\n",
      "        \n",
      "\n",
      "            <a href=\"/3.mp3\" singer=\"齐秦\">往事随风</a>\n",
      "        \n",
      "光辉岁月\n",
      "记事本\n",
      "\n",
      "            <a href=\"/6.mp3\" singer=\"邓丽君\">但愿人长久</a>\n",
      "        \n"
     ]
    }
   ],
   "source": [
    "import re\n",
    "html = '''<div id=\"songs-list\">\n",
    "    <h2 class=\"title\">经典老歌</h2>\n",
    "    <p class=\"introduction\">\n",
    "        经典老歌列表\n",
    "    </p>\n",
    "    <ul id=\"list\" class=\"list-group\">\n",
    "        <li data-view=\"2\">一路上有你</li>\n",
    "        <li data-view=\"7\">\n",
    "            <a href=\"/2.mp3\" singer=\"任贤齐\">沧海一声笑</a>\n",
    "        </li>\n",
    "        <li data-view=\"4\" class=\"active\">\n",
    "            <a href=\"/3.mp3\" singer=\"齐秦\">往事随风</a>\n",
    "        </li>\n",
    "        <li data-view=\"6\"><a href=\"/4.mp3\" singer=\"beyond\">光辉岁月</a></li>\n",
    "        <li data-view=\"5\"><a href=\"/5.mp3\" singer=\"陈慧琳\">记事本</a></li>\n",
    "        <li data-view=\"5\">\n",
    "            <a href=\"/6.mp3\" singer=\"邓丽君\">但愿人长久</a>\n",
    "        </li>\n",
    "    </ul>\n",
    "</div>'''\n",
    "result = re.findall('<li.*?>\\s*(<a.*?>)?(.*?)(</a>)?\\s*?</li>', html, re.S)\n",
    "print(result)\n",
    "for i in result:\n",
    "    print(i[1])"
   ]
  },
  {
   "cell_type": "code",
   "execution_count": null,
   "metadata": {},
   "outputs": [],
   "source": [
    "import requests\n",
    "import re \n",
    "content = requests.get('https://book.douban.com/').text\n",
    "pattern = re.compile('<li.*?cover.*?href=\"(.*?)\".*?title=\"(.*?)\".*?more-meta.*?author\">(.*?)</span>.*?year\">(.*?)</span>.*?</li>',re.S)\n",
    "results = re.findall(pattern,content,re.S)\n",
    "print(results)"
   ]
  },
  {
   "cell_type": "code",
   "execution_count": null,
   "metadata": {},
   "outputs": [],
   "source": []
  },
  {
   "cell_type": "code",
   "execution_count": null,
   "metadata": {},
   "outputs": [],
   "source": [
    "<li class=\"\">\n",
    "            <div class=\"cover\">\n",
    "              <a href=\"https://book.douban.com/subject/30158842/?icn=index-editionrecommend\" title=\"刺\">\n",
    "                <img src=\"https://img3.doubanio.com/lpic/s29726415.jpg\" class=\"\" alt=\"刺\" width=\"115px\" height=\"172px\">\n",
    "              </a>\n",
    "            </div>\n",
    "                <div class=\"intervenor-info\">\n",
    "                    <img src=\"https://img3.doubanio.com/f/book/ef040178fab1770d60e3f2f12ba4c7aa70714396/pics/book/partner/jd_recommend.png\" class=\"jd-icon\" width=\"16\" height=\"16\"> \n",
    "                    <span>推荐</span>\n",
    "                </div>\n",
    "            <div class=\"info\">\n",
    "              <div class=\"title\">\n",
    "                <a class=\"\" href=\"https://book.douban.com/subject/30158842/?icn=index-editionrecommend\" title=\"刺\">刺</a>\n",
    "              </div>\n",
    "              <div class=\"author\">\n",
    "                李尚龙\n",
    "              </div>\n",
    "              <div class=\"more-meta\">\n",
    "                <h4 class=\"title\">\n",
    "                  刺\n",
    "                </h4>\n",
    "                <p>\n",
    "                  <span class=\"author\">\n",
    "                    李尚龙\n",
    "                  </span>\n",
    "                  /\n",
    "                  <span class=\"year\">\n",
    "                    2018-4-1\n",
    "                  </span>\n",
    "                  /\n",
    "                  <span class=\"publisher\">\n",
    "                    北京联合出版公司\n",
    "                  </span>\n",
    "                </p>\n",
    "                <p class=\"abstract\">\n",
    "                  \n",
    "                  你是否曾经遭遇校园暴力？\n",
    "你是否曾经遭遇职场暴力？\n",
    "你是否曾经遭遇网络暴力？\n",
    "\n",
    "在家长的监控死角，社会的道德盲区，法律的灰色地带\n",
    "谁来保护我们？\n",
    "在校园，在职场，在社交网络，\n",
    "每个人，都有可能是受害者。\n",
    "\n",
    "百万销量作者李尚龙，\n",
    "历时365天精心打磨，\n",
    "为校园暴力、职场暴力、网络暴力强势发声，\n",
    "以笔当枪，与这个世界决战。\n",
    "                </p>\n",
    "              </div>\n",
    "            </div>\n",
    "          </li>"
   ]
  }
 ],
 "metadata": {
  "kernelspec": {
   "display_name": "Python 3",
   "language": "python",
   "name": "python3"
  },
  "language_info": {
   "codemirror_mode": {
    "name": "ipython",
    "version": 3
   },
   "file_extension": ".py",
   "mimetype": "text/x-python",
   "name": "python",
   "nbconvert_exporter": "python",
   "pygments_lexer": "ipython3",
   "version": "3.6.4"
  }
 },
 "nbformat": 4,
 "nbformat_minor": 2
}
