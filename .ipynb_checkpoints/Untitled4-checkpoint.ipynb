{
 "cells": [
  {
   "cell_type": "code",
   "execution_count": null,
   "metadata": {},
   "outputs": [],
   "source": [
    "import urllib\n",
    "import urllib2\n",
    "import  re\n",
    "\n",
    "\n",
    "page = 1\n",
    "url = 'http://www.qiushibaike.com/hot/page/' + str(page)\n",
    "user_agent = 'Mozilla/4.0 (compatible; MSIE 5.5; Windows NT)'\n",
    "headers = {'User-Agent': user_agent}\n",
    "try:\n",
    "    request = urllib2.Request(url, headers=headers)\n",
    "    response = urllib2.urlopen(request)\n",
    "    a= response.read()\n",
    "    print a\n",
    "    pattern=re.compile(r'<span>(.*?)</span>',re.S)\n",
    "    b=re.findall(pattern,a)\n",
    "    print type(b)\n",
    "    print b\n",
    "\n",
    "\n",
    "except urllib2.URLError, e:\n",
    "    print e.reason"
   ]
  },
  {
   "cell_type": "code",
   "execution_count": 17,
   "metadata": {},
   "outputs": [],
   "source": [
    "import urllib\n",
    "from urllib import request, error\n",
    "import re"
   ]
  },
  {
   "cell_type": "code",
   "execution_count": 18,
   "metadata": {},
   "outputs": [],
   "source": [
    "page = 1\n",
    "url = 'http://www.qiushibaike.com/hot/page/' + str(page)\n",
    "user_agent = 'Mozilla/4.0 (compatible; MSIE 5.5; Windows NT)'\n",
    "headers = {'User-Agent': user_agent}"
   ]
  },
  {
   "cell_type": "code",
   "execution_count": 27,
   "metadata": {},
   "outputs": [
    {
     "name": "stdout",
     "output_type": "stream",
     "text": [
      "re.compile('<span>(.*?)</span>', re.DOTALL)\n"
     ]
    }
   ],
   "source": [
    "try:\n",
    "    request_1 = urllib.request.Request(url, headers=headers)\n",
    "    response = request.urlopen(request_1)\n",
    "    a= response.read().decode('utf-8') # 解码成UTF8编码\n",
    "    print(a) #输出网页内容\n",
    "    pattern=re.compile(r'<span>(.*?)</span>',re.S)\n",
    "    b=re.findall(pattern,a)\n",
    "    print(pattern)\n",
    "    print(b)\n",
    "except error.URLError as e:\n",
    "    print(e.reason)\n"
   ]
  },
  {
   "cell_type": "code",
   "execution_count": null,
   "metadata": {},
   "outputs": [],
   "source": []
  }
 ],
 "metadata": {
  "kernelspec": {
   "display_name": "Python 3",
   "language": "python",
   "name": "python3"
  },
  "language_info": {
   "codemirror_mode": {
    "name": "ipython",
    "version": 3
   },
   "file_extension": ".py",
   "mimetype": "text/x-python",
   "name": "python",
   "nbconvert_exporter": "python",
   "pygments_lexer": "ipython3",
   "version": "3.6.5"
  }
 },
 "nbformat": 4,
 "nbformat_minor": 2
}
