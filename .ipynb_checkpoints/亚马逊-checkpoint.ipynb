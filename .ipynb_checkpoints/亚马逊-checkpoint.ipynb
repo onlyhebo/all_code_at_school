{
 "cells": [
  {
   "cell_type": "code",
   "execution_count": 4,
   "metadata": {},
   "outputs": [],
   "source": [
    "from selenium import webdriver\n",
    "import time\n",
    "from selenium.common.exceptions import TimeoutException, NoSuchElementException,StaleElementReferenceException\n",
    "from selenium.webdriver import Firefox\n",
    "from selenium.webdriver.firefox.options import Options\n",
    "from selenium.webdriver.support.wait import WebDriverWait\n",
    "options = Options()\n",
    "options.add_argument('-headless')\n",
    "browser = Firefox(executable_path = 'C:\\Python3\\geckodriver',firefox_options = options)\n",
    "wait = WebDriverWait(browser, timeout=10)\n",
    "#browser = webdriver.Firefox()\n",
    "browser.get(\"https://www.amazon.cn/?tag=baidu250-23&hvadid={creative}&ref=pz_ic_22fvxh4dwf_e\")\n",
    "browser.find_element_by_css_selector('#twotabsearchtextbox').send_keys('机器学习')\n",
    "browser.find_element_by_css_selector('#nav-search .nav-input').click()\n",
    "#browser.maximize_window()"
   ]
  },
  {
   "cell_type": "code",
   "execution_count": 5,
   "metadata": {},
   "outputs": [],
   "source": [
    "f = open('yamaxun.txt','w+',encoding= 'utf8') # w新建只写，w+新建读写，二者都会将文件内容清零，用来存放所有评论"
   ]
  },
  {
   "cell_type": "code",
   "execution_count": null,
   "metadata": {
    "scrolled": false
   },
   "outputs": [
    {
     "name": "stdout",
     "output_type": "stream",
     "text": [
      "第1页的所有商品集合\n",
      " 第1个商品\n",
      "点击评论异常\n",
      " 第2个商品\n",
      "  第1页评论\n",
      "1、内容有误p18. \"例1.2……对应表中第2（应为：4）行，则……为垃圾（应为：普通）邮件；反之（对应表中第4（应为：2）行，……为普通（应为：垃圾）邮件。\" 弄颠倒了。2、 图例说明错误p130. \"例6.5……图6-13中的红色曲线……\" 而图6-13是幅黑白图，未配彩插图。只得靠辨别黑灰白，大致领略文意。3、 参考文献标引错误p59. 倒数第三段，”……Provost和Fawcett(2011)……Fuurnkranz和Flach(2011)……“ 参考文献部分没有这两篇文献。可能是敲字排版错误，所指估计是这两篇，Provost, F.J. and Fawcett, T.(2001)和Furnkranz,J. and Flach, P. A. (2005)。4、译笔硬p26. “特征可被视为一种易于在任意实例上度量的测度”。这句，透过纸面都能看到英文句子。译成“可视特征为某种测度，用于测量实例。”是否能好消化一点？p77. 术语literal 译为“文字”。于是后面出现这样的句子。p99. “定义5.1 ……且从内部节点出发的每条边都被标记为一个文字。”p117. \"6.1……核心思想是……提升最大的文字来保持合取规则体的增长。“术语literal 译为”字面量“、”字面符“、”常值“等术语，是有意见分歧的。但译成”文字“……读这样的句子，就像有碎玻璃在脑子来回划一样。5、坚持读完能取得并读通原文自然不消说了。书的内容没有问题，周志华先生在他的《机器学习》中，评此书为”出色的入门读物“。中文版译笔大可商榷。但拿到此书还是应该勉力坚持读完，是有收获的。6、建议书后增加”索引“，便于追索术语，相互对照，有助理解。\n",
      "这本书至少不合适当前阶段的我来阅读，感觉该知道的已经知道，不知道的书中也没有说清楚。作者对于内容详细和简练的把握程度，总体上和我不匹配。本书的公式表述有很大的问题，公式中的符号都不是就近能够找到说明的，譬如都在大段大段的文字里，而且可能是好几页之前的。作者可能认为读者会看和记住每个字吧，但显然这不是事实。作者给了无数多的ROC图，同样也是我这个阶段不理解的，我很想告诉作者“我没那么在意优劣啊，我还不透彻地理解过程呢”。本书的结构也不太好理解。\n",
      "我是选择挑着看的，目前在看基于距离的模型一章，这一章只看到一部分，但有几个意见了：第一点，在讲述国际象棋规则时，马的规则是错的第二点，文中插图居然是黑白的，跟图下的注释完全不搭，虽然后面有彩图，但是阅读不方便，但为什么不直接在文中放彩图\n",
      "还是要有一些数学，图形，才能把事情讲清楚。这本书处于入门和深入的中间衔接阶段。\n",
      "从宽泛的角度表达了机器学习的内容 对于初步对机器学习有兴趣的入围人来说 是不错的选择\n",
      "需要计算机基楚，写的翔实而不拘泥\n",
      "翻译的相当糟糕，很多地方没有把真正的意思明确说出来。另外，缺少很多术语和概念的解释。不推荐购买\n",
      "这本入门不行，很多基础性的东西介绍的不详细。而且翻译的也不是很流畅。不推荐。\n",
      "这本书可谓学习机器学习的经典之作\n",
      "蛮不错的，需要高深的数学功底，感觉自己还需要慢慢品读\n",
      "  第2页评论\n",
      "亚马逊服务好，书包装非常好，内容以一种不同以往的风格编写，通俗易懂\n",
      "内容介绍的十分简略，写的比较绕就算了，翻译也很差，很不专业。\n",
      "正版图书，很好，认真研读后可以有理解。\n",
      " 第3个商品\n",
      "  第1页评论\n",
      "这本书我要好好说一下，scikit learn几乎没有中文书，这算第一本了。我看完之后觉得作者写作非常用心，阅读没有障碍。当然，我得说一下，我机器学习是已经入门的，来阅读这本书觉得不错。但是这本书有个最大的槽点，拿到书之后，我最大的感觉就是定价贵了，虽然就是贵了十多块，但真的贵了。\n",
      "案例还是有一些用的，也介绍了几个模型。不过有些错误太明显了。KNN书中多处写成K均值，好尴尬。\n",
      "机器学习方面的图书已经出版了多本，但要找一本写得通俗易懂，容易入门的却有点难。而本书恰恰就是一本这样的书，非常值得推荐给入门读者阅读。书中介绍了常见的机器学习算法，并给出了多个实例，不但可以让读者理解相关算法的原理，而且还可以在作者的引领下动手实践。\n",
      "这本书很适合基础薄弱的读者入门机器学习，内容实用，案例多，数学基础弱点也能学会，大赞。\n",
      " 第4个商品\n"
     ]
    }
   ],
   "source": [
    "for n in range(50):\n",
    "    print('第%d页的所有商品集合'%(n+1))\n",
    "    lists = browser.find_elements_by_css_selector('#s-results-list-atf>li') #某一页的所有商品\n",
    "    for m in range(len(lists)):\n",
    "        print(\" 第%d个商品\"%(m+1))\n",
    "        lists[m].find_element_by_css_selector('img').click() #点击进入第n个商品\n",
    "        browser.switch_to_window(browser.window_handles[-1])#获取该商品的handle\n",
    "        time.sleep(3)\n",
    "        try:\n",
    "            browser.find_element_by_css_selector('#acrCustomerReviewText').click()#点击它的评论\n",
    "        except:\n",
    "            print('点击评论异常')\n",
    "            for ha in browser.window_handles:\n",
    "                if ha != browser.window_handles[0]:\n",
    "                    browser.switch_to_window(ha)\n",
    "                    browser.close()\n",
    "            browser.switch_to_window(browser.window_handles[0])\n",
    "            continue\n",
    "        time.sleep(3)\n",
    "        browser.switch_to_window(browser.window_handles[-1])#进入它的评论区\n",
    "        for i in range(20):\n",
    "            print('  第%d页评论'%(i+1))\n",
    "            comments = browser.find_elements_by_css_selector(\"#cm_cr-review_list .a-section.review\") #找到所有评论的div\n",
    "            for j in comments: #在每一个div里面寻找文本\n",
    "                try:\n",
    "                    comment = j.find_element_by_css_selector('.a-size-base.review-text').text.replace('\\n','') #comment就是每一个文本\n",
    "                except StaleElementReferenceException as msg:\n",
    "                    #print(u\"查找元素异常%s\"%msg)\n",
    "                    #print(u'重新获取元素')\n",
    "                    #time.sleep(3)\n",
    "                    #comment = j.find_element_by_css_selector('.a-size-base.review-text').text.replace('\\n','')\n",
    "                    print('难道异常？')\n",
    "                    continue\n",
    "                print(comment)\n",
    "                f.write(comment + '\\n')\n",
    "            time.sleep(3)\n",
    "            try:\n",
    "                browser.find_element_by_css_selector('.a-last > a:nth-child(1)').click()\n",
    "                time.sleep(3)\n",
    "            except:\n",
    "                break\n",
    "        for ha in browser.window_handles:\n",
    "            if ha != browser.window_handles[0]:\n",
    "                browser.switch_to_window(ha)\n",
    "                browser.close()\n",
    "        browser.switch_to_window(browser.window_handles[0])\n",
    "    try:\n",
    "        browser.find_element_by_id('pagnNextString').click()\n",
    "        time.sleep(3)\n",
    "    except:\n",
    "        break"
   ]
  },
  {
   "cell_type": "code",
   "execution_count": null,
   "metadata": {},
   "outputs": [],
   "source": [
    "f.close()"
   ]
  },
  {
   "cell_type": "code",
   "execution_count": null,
   "metadata": {},
   "outputs": [],
   "source": []
  }
 ],
 "metadata": {
  "kernelspec": {
   "display_name": "Python 3",
   "language": "python",
   "name": "python3"
  },
  "language_info": {
   "codemirror_mode": {
    "name": "ipython",
    "version": 3
   },
   "file_extension": ".py",
   "mimetype": "text/x-python",
   "name": "python",
   "nbconvert_exporter": "python",
   "pygments_lexer": "ipython3",
   "version": "3.6.5"
  }
 },
 "nbformat": 4,
 "nbformat_minor": 2
}
