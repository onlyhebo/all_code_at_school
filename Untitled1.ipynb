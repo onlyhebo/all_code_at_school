{
 "cells": [
  {
   "cell_type": "code",
   "execution_count": 1,
   "metadata": {},
   "outputs": [],
   "source": [
    "from selenium import webdriver"
   ]
  },
  {
   "cell_type": "code",
   "execution_count": 5,
   "metadata": {},
   "outputs": [],
   "source": [
    "opt = webdriver.ChromeOptions()"
   ]
  },
  {
   "cell_type": "code",
   "execution_count": 7,
   "metadata": {},
   "outputs": [],
   "source": [
    "opt.set_headless()"
   ]
  },
  {
   "cell_type": "code",
   "execution_count": 1,
   "metadata": {},
   "outputs": [],
   "source": [
    "from selenium.webdriver import Firefox\n",
    "from selenium.webdriver.common.by import By\n",
    "from selenium.webdriver.common.keys import Keys\n",
    "from selenium.webdriver.firefox.options import Options\n",
    "from selenium.webdriver.support import expected_conditions as expected\n",
    "from selenium.webdriver.support.wait import WebDriverWait\n",
    "options = Options()\n",
    "options.add_argument('-headless')  # 无头参数\n",
    "driver = Firefox(executable_path='C:\\geckodriver', firefox_options=options)  # 配了环境变量第一个参数就可以省了，不然传绝对路径\n",
    "wait = WebDriverWait(driver, timeout=10)\n",
    "driver.get('https://www.zhihu.com/')\n",
    "driver.maximize_window()\n",
    "driver.find_element_by_css_selector('.SignContainer-switch span').click()\n",
    "driver.find_element_by_name('username').send_keys('18215609986')\n",
    "driver.find_element_by_name('password').send_keys('hb7615501@')\n",
    "driver.find_element_by_css_selector('.Button.SignFlow-submitButton.Button--primary.Button--blue').click()  "
   ]
  },
  {
   "cell_type": "code",
   "execution_count": 2,
   "metadata": {},
   "outputs": [],
   "source": [
    "driver.find_element_by_css_selector('.Popover input').send_keys('武汉理工大学')\n",
    "driver.find_element_by_css_selector('.Button.SearchBar-searchIcon.Button--primary').click()\n",
    "Card = driver.find_elements_by_css_selector('#SearchMain .Card')[1] #获取话题的总的div\n",
    "li =  Card.find_elements_by_css_selector('.List-item') #获得所有的话题板块"
   ]
  },
  {
   "cell_type": "code",
   "execution_count": 3,
   "metadata": {},
   "outputs": [
    {
     "name": "stdout",
     "output_type": "stream",
     "text": [
      "https://www.zhihu.com/question/65661192/answer/360187262\n"
     ]
    },
    {
     "data": {
      "text/plain": [
       "[<selenium.webdriver.firefox.webelement.FirefoxWebElement (session=\"084602bc-9508-435b-b88e-a3c583d5816d\", element=\"062dfbc3-3220-4c7c-ab72-5fa716d19dc5\")>,\n",
       " <selenium.webdriver.firefox.webelement.FirefoxWebElement (session=\"084602bc-9508-435b-b88e-a3c583d5816d\", element=\"ad64d5e7-504f-4908-9507-a1fa457500f1\")>,\n",
       " <selenium.webdriver.firefox.webelement.FirefoxWebElement (session=\"084602bc-9508-435b-b88e-a3c583d5816d\", element=\"983f3a45-655b-4e3c-b866-675ecfecaa14\")>,\n",
       " <selenium.webdriver.firefox.webelement.FirefoxWebElement (session=\"084602bc-9508-435b-b88e-a3c583d5816d\", element=\"cd4c3588-1d0e-4f5c-9509-2be1cce66ec6\")>,\n",
       " <selenium.webdriver.firefox.webelement.FirefoxWebElement (session=\"084602bc-9508-435b-b88e-a3c583d5816d\", element=\"daa6c2a9-7935-4fbe-a998-48395daeb656\")>]"
      ]
     },
     "execution_count": 3,
     "metadata": {},
     "output_type": "execute_result"
    }
   ],
   "source": [
    "url = li[0].find_element_by_css_selector('h2 a').get_attribute('href')\n",
    "print(url)\n",
    "driver.set_window_size(1124, 850)\n",
    "driver.get(url)\n",
    "driver.find_element_by_css_selector('.QuestionMainAction').click()\n",
    "driver.find_elements_by_css_selector('.List-item')"
   ]
  },
  {
   "cell_type": "code",
   "execution_count": 24,
   "metadata": {},
   "outputs": [
    {
     "data": {
      "text/plain": [
       "'匿名用户\\n1,648 人赞同了该回答\\n双一流不是武汉理工大学的目标\\n\\n人家致力于打造超越 麻省理工 帝国理工的知名度，拥有全国顶级的公共关系专业 ，\\n看到了该校传播行业的发展估计 香港浸会愿意把亚洲第一让给它\\n又从剑桥大学引入独家导师关怀系统，给予学生父亲般的爱和关怀 加入自己传统文化父子礼节 又把剑桥大学远远甩在身后\\n还能体验到到连香港广东都没有的超强台风，自然风光别具一格。\\n如此兼备人文气息自然风景的大学 估计不在乎双一流了吧\\n编辑于 2018-04-06\\n1.6K\\n144 条评论\\n分享\\n收藏\\n感谢'"
      ]
     },
     "execution_count": 24,
     "metadata": {},
     "output_type": "execute_result"
    }
   ],
   "source": [
    "driver.find_elements_by_css_selector('.List-item')[3].text"
   ]
  },
  {
   "cell_type": "code",
   "execution_count": 12,
   "metadata": {},
   "outputs": [],
   "source": [
    "driver.get('https://www.zhihu.com/question/270773664')\n",
    "for i in range(10):\n",
    "    driver.execute_script('window.scrollTo(0,document.body.scrollHeight)')"
   ]
  },
  {
   "cell_type": "code",
   "execution_count": 13,
   "metadata": {},
   "outputs": [
    {
     "data": {
      "text/plain": [
       "[<selenium.webdriver.firefox.webelement.FirefoxWebElement (session=\"084602bc-9508-435b-b88e-a3c583d5816d\", element=\"c7808fde-84dc-4b01-a1d3-ffd187b87662\")>,\n",
       " <selenium.webdriver.firefox.webelement.FirefoxWebElement (session=\"084602bc-9508-435b-b88e-a3c583d5816d\", element=\"ac4a9b24-c970-4384-bc1f-f9c8b5af1362\")>,\n",
       " <selenium.webdriver.firefox.webelement.FirefoxWebElement (session=\"084602bc-9508-435b-b88e-a3c583d5816d\", element=\"45199619-cc31-4246-a150-cd9cdff1e869\")>,\n",
       " <selenium.webdriver.firefox.webelement.FirefoxWebElement (session=\"084602bc-9508-435b-b88e-a3c583d5816d\", element=\"4960fe55-934e-4629-b4de-ea28224c55c7\")>,\n",
       " <selenium.webdriver.firefox.webelement.FirefoxWebElement (session=\"084602bc-9508-435b-b88e-a3c583d5816d\", element=\"cf197a12-1cdf-4dbe-b564-528cd4d3cde5\")>,\n",
       " <selenium.webdriver.firefox.webelement.FirefoxWebElement (session=\"084602bc-9508-435b-b88e-a3c583d5816d\", element=\"43d86a8c-347d-47f7-bd10-c63a2723520a\")>,\n",
       " <selenium.webdriver.firefox.webelement.FirefoxWebElement (session=\"084602bc-9508-435b-b88e-a3c583d5816d\", element=\"accfa96e-2f3f-47b9-9db8-284533db4f9b\")>,\n",
       " <selenium.webdriver.firefox.webelement.FirefoxWebElement (session=\"084602bc-9508-435b-b88e-a3c583d5816d\", element=\"610eea29-13fe-4612-a642-80e44d07c312\")>,\n",
       " <selenium.webdriver.firefox.webelement.FirefoxWebElement (session=\"084602bc-9508-435b-b88e-a3c583d5816d\", element=\"bd726677-8de7-42d4-8443-546db82f3cd2\")>,\n",
       " <selenium.webdriver.firefox.webelement.FirefoxWebElement (session=\"084602bc-9508-435b-b88e-a3c583d5816d\", element=\"850016a8-daae-477a-a44e-7b6188149833\")>,\n",
       " <selenium.webdriver.firefox.webelement.FirefoxWebElement (session=\"084602bc-9508-435b-b88e-a3c583d5816d\", element=\"00a2504a-4d25-4bdb-9fb2-cd8cae13316a\")>,\n",
       " <selenium.webdriver.firefox.webelement.FirefoxWebElement (session=\"084602bc-9508-435b-b88e-a3c583d5816d\", element=\"89eefc0a-3597-48b9-899a-59305f286ff0\")>,\n",
       " <selenium.webdriver.firefox.webelement.FirefoxWebElement (session=\"084602bc-9508-435b-b88e-a3c583d5816d\", element=\"7c84c8e0-be61-446a-82bd-fb25d8bcb404\")>,\n",
       " <selenium.webdriver.firefox.webelement.FirefoxWebElement (session=\"084602bc-9508-435b-b88e-a3c583d5816d\", element=\"14bea01c-3669-49fc-a5bd-6b795c7c0021\")>,\n",
       " <selenium.webdriver.firefox.webelement.FirefoxWebElement (session=\"084602bc-9508-435b-b88e-a3c583d5816d\", element=\"edeee8ba-316b-4db5-9595-cd9ab605009f\")>]"
      ]
     },
     "execution_count": 13,
     "metadata": {},
     "output_type": "execute_result"
    }
   ],
   "source": [
    "driver.find_elements_by_css_selector('.List-item')"
   ]
  },
  {
   "cell_type": "code",
   "execution_count": 7,
   "metadata": {},
   "outputs": [
    {
     "name": "stderr",
     "output_type": "stream",
     "text": [
      "c:\\python36\\lib\\site-packages\\selenium\\webdriver\\phantomjs\\webdriver.py:49: UserWarning: Selenium support for PhantomJS has been deprecated, please use headless versions of Chrome or Firefox instead\n",
      "  warnings.warn('Selenium support for PhantomJS has been deprecated, please use headless '\n"
     ]
    }
   ],
   "source": [
    "from selenium import webdriver\n",
    "driver_1 = webdriver.PhantomJS()"
   ]
  },
  {
   "cell_type": "code",
   "execution_count": 8,
   "metadata": {},
   "outputs": [],
   "source": [
    "driver_1.get('https://www.zhihu.com/question/270773664')"
   ]
  },
  {
   "cell_type": "code",
   "execution_count": 10,
   "metadata": {},
   "outputs": [
    {
     "data": {
      "text/plain": [
       "'<!DOCTYPE html><html lang=\"zh\" data-hairline=\"true\" data-theme=\"light\"><head><meta charset=\"utf-8\"><title>知乎 - 发现更大的世界</title><meta name=\"viewport\" content=\"width=device-width,initial-scale=1,maximum-scale=1\"><meta name=\"renderer\" content=\"webkit\"><meta name=\"force-rendering\" content=\"webkit\"><meta http-equiv=\"X-UA-Compatible\" content=\"IE=edge,chrome=1\"><meta name=\"google-site-verification\" content=\"FTeR0c8arOPKh8c5DYh_9uu98_zJbaWw53J-Sch9MTg\"><link rel=\"shortcut icon\" type=\"image/x-icon\" href=\"https://static.zhihu.com/static/favicon.ico\"><link rel=\"dns-prefetch\" href=\"//static.zhimg.com\"><link rel=\"dns-prefetch\" href=\"//pic1.zhimg.com\"><link rel=\"dns-prefetch\" href=\"//pic2.zhimg.com\"><link rel=\"dns-prefetch\" href=\"//pic3.zhimg.com\"><link rel=\"dns-prefetch\" href=\"//pic4.zhimg.com\"><link href=\"https://static.zhihu.com/heifetz/main.app.45fe93cc6f3c194e586b.css\" rel=\"stylesheet\"><script type=\"text/javascript\" charset=\"utf-8\" async=\"\" src=\"https://static.zhihu.com/heifetz/main.richinput.39a7e17cdf6cf8c19e80.js\"></script><script type=\"text/javascript\" charset=\"utf-8\" async=\"\" src=\"https://static.zhihu.com/heifetz/main.signflow.7f3c37207b71e75ce934.js\"></script><style type=\"text/css\">.CloseIcon-icon-2xww{transition:opacity .3s ease-out}.CloseIcon-icon-2xww:hover{opacity:.8}</style><style type=\"text/css\">.animations-fadeIn-1aFv{animation:animations-fadeIn-1aFv .3s ease-out both}@keyframes animations-fadeIn-1aFv{0%{opacity:0}to{opacity:1}}.animations-fadeOut-3XSQ{animation:animations-fadeOut-3XSQ .3s ease-out both}@keyframes animations-fadeOut-3XSQ{0%{opacity:1}to{opacity:0}}.animations-fadeInUp-3KKK{animation:animations-fadeInUp-3KKK .3s cubic-bezier(.25,.1,.35,1) both}@keyframes animations-fadeInUp-3KKK{0%{opacity:0;transform:translateY(20px)}to{opacity:1;transform:translateY(0)}}.animations-fadeOutDown-r_A_{animation:animations-fadeOutDown-r_A_ .3s cubic-bezier(.25,.1,.35,1) both}@keyframes animations-fadeOutDown-r_A_{0%{transform:translateY(0)}to{opacity:0;transform:translateY(20px)}}</style><style type=\"text/css\">.Modal-backdrop-2ksh{background-color:rgba(0,0,0,.65)}.Modal-backdrop-2ksh,.Modal-modalWrapper-56Mq{position:fixed;top:0;right:0;bottom:0;left:0;z-index:10010}.Modal-modalWrapper-56Mq{display:-ms-flexbox;display:flex;-ms-flex-align:center;align-items:center;-ms-flex-pack:center;justify-content:center}.Modal-modal-wf58{position:relative;z-index:10011;background:#fff;border-radius:2px}.Modal-content-3JxL{width:588px;max-height:calc(100vh - 24px * 2);overflow-x:hidden;overflow-y:auto;-webkit-overflow-scrolling:touch}.Modal-closeButton-3JkR{position:absolute;top:4px;right:-44px;padding:12px;width:40px;height:40px;cursor:pointer;box-sizing:border-box;background:none;outline:none;border:none}</style><style type=\"text/css\">.FeedbackButton-button-3waL{position:fixed;z-index:10000;bottom:40px;right:40px;width:40px;height:40px;cursor:pointer;border-radius:50%;background-color:#fff;border:none;outline:none;box-shadow:0 0 10px rgba(0,0,0,.15);font-weight:700;line-height:normal}.FeedbackButton-icon-1Rgw{display:inline-block;vertical-align:middle;width:18px;height:18px;background-image:url(data:image/svg+xml;base64,PHN2ZyB3aWR0aD0iMzUiIGhlaWdodD0iMzYiIHZpZXdCb3g9IjAgMCAzNSAzNiIgeG1sbnM9Imh0dHA6Ly93d3cudzMub3JnLzIwMDAvc3ZnIj48dGl0bGU+R3JvdXAgNjwvdGl0bGU+PGcgZmlsbD0iIzAwOEZFQiIgZmlsbC1ydWxlPSJldmVub2RkIj48cGF0aCBkPSJNMTMgMTguM2MwLS40IDAtLjcuNC0xIC4yLS4yLjUtLjMuOC0uMy40IDAgLjcgMCAxIC40LjIuMi4zLjUuMyAxIDAgLjIgMCAuNS0uNC43IDAgLjQtLjQuNS0uOC41LS4zIDAtLjYgMC0uOC0uNC0uMyAwLS40LS40LS40LS43ek0xMCAxMC43di0xYy40LTEgMS41LTIuNyA0LjItMi43IDIgMCAzLjggMS40IDMuOCAzcy0xLjQgMi43LTIgMy4zYy0uOC42LTEgMS0xLjIgMS43LS4yLjYtLjYgMS0xLjMgMS0uMy0uMi0uNi0uMy0uNy0uNXYtLjhjMC0uMiAwLS43LjMtMS4ybDEuNC0xLjVjMS40LTEuMiAxLjYtMiAuOC0yLjgtLjUtLjQtMS42LS41LTIuMiAwLS44LjQtMSAxLTEuMiAxLjMtLjIuNS0uMyAxLTEuMyAxLS4zLS4yLS40LS40LS41LS44eiIvPjxwYXRoIGQ9Ik0yOS44IDEwLjJ2M2MxLjQgMS44IDIuMyA0IDIuMyA2LjMgMCAzLjgtMi4yIDctNS41IDl2My44bC0zLjctMi41LTMgLjNjLTIuOCAwLTQuMy0uOC02LjQtMi4yaC0zLjFDMTMgMzAuNCAxNS42IDMyIDIwIDMyYy44IDAgMS43IDAgMi42LS4ybDYgNHYtNi40YzMuNS0yLjQgNS43LTYgNS43LTEwIDAtMy42LTEuNy03LTQuNS05LjJ6TTE0LjQgMjUuNmM4IDAgMTMuMi02IDEzLjItMTNTMjEgMCAxNC40IDBDNi40IDAgMCA1LjcgMCAxMi43YzAgNCAxLjUgNy41IDQuNCAxMFYyOWw2LjMtMy42IDMuNy4yek0xNC4yIDJjNi41IDAgMTEuNSA1LjMgMTEuNSAxMUMyNS43IDE5IDIxIDI0IDE0LjQgMjRjLTEgMC0zLjYtLjMtNC41LS41TDYgMjUuN3YtNGMtMi43LTIuMi00LTUtNC04LjZDMiA3IDcgMiAxNCAyeiIvPjwvZz48L3N2Zz4=);background-repeat:no-repeat;background-size:contain}.FeedbackButton-button-3waL:hover .FeedbackButton-icon-1Rgw{background-image:url(data:image/svg+xml;base64,PHN2ZyB3aWR0aD0iMzUiIGhlaWdodD0iMzYiIHZpZXdCb3g9IjAgMCAzNSAzNiIgeG1sbnM9Imh0dHA6Ly93d3cudzMub3JnLzIwMDAvc3ZnIj48dGl0bGU+R3JvdXAgMTE8L3RpdGxlPjxnIGZpbGw9Im5vbmUiIGZpbGwtcnVsZT0iZXZlbm9kZCI+PHBhdGggZD0iTTI5LjQgMTNjMCAyLS4zIDguMi01IDExLjQtNC4zIDMtOSAzLjMtMTEuMyAzLjNoLTNjMi44IDIuNyA2LjYgNC44IDEyLjIgNCAxIDAgNi4zIDQgNi4zIDRWMjljMy41LTIuMyA1LjMtNS4yIDUuNi05LjUuMy0zLjctMS42LTctNC41LTkuNXYzem0tMTUgMTIuNmM4IDAgMTMuMi02IDEzLjItMTNTMjEgMCAxNC40IDBDNi40IDAgMCA1LjcgMCAxMi43YzAgNCAxLjUgNy41IDQuNCAxMFYyOWw2LjMtMy42IDMuNy4zeiIgZmlsbD0iIzAwOEZFQiIvPjxwYXRoIGQ9Ik0xMyAxOC4zYzAtLjQgMC0uNy40LTFzLjUtLjMuOC0uM2MuNCAwIC43IDAgMSAuNC4yLjIuMy41LjMgMSAwIC4yIDAgLjUtLjQuNyAwIC40LS40LjUtLjguNS0uMyAwLS42IDAtLjgtLjQtLjMgMC0uNC0uNC0uNC0uN3ptLTMtNy42di0xYy40LTEgMS40LTIuNyA0LjItMi43IDIgMCAzLjggMS40IDMuOCAzcy0xLjQgMi43LTIgMy4zYy0uOC42LTEgMS0xLjIgMS43LS4yLjYtLjYgMS0xLjMgMS0uMy0uMi0uNi0uMy0uNy0uNXYtLjhjMC0uMiAwLS43LjMtMS4ybDEuNC0xLjVjMS40LTEuMiAxLjYtMiAuOC0yLjgtLjUtLjQtMS42LS41LTIuMiAwLS44LjQtMSAxLTEuMiAxLjMtLjIuNS0uMyAxLTEuMyAxLS4zLS4yLS40LS40LS41LS44eiIgZmlsbD0iI0ZGRiIvPjwvZz48L3N2Zz4=)}</style><style type=\"text/css\">.DrawingExample-svg-30WA{position:absolute;top:30px;right:0;left:0;margin:auto;transform:rotate(-44deg)}.DrawingExample-ellipse-26bv{stroke-dasharray:520;transform-origin:center;animation:DrawingExample-drawingExample-3Bm3 .6s linear both}@keyframes DrawingExample-drawingExample-3Bm3{0%{stroke-dashoffset:520}50%{stroke-dashoffset:1000;opacity:1}to{stroke-dashoffset:1000;opacity:0}}</style><style type=\"text/css\">.Spinner-spinner-2PGn{position:absolute;width:30px;height:30px;top:50%;left:50%;margin:-15px 0 0 -15px;animation:Spinner-rotate-RMMJ .8s linear infinite}.Spinner-spinner-2PGn .Spinner-circle-teFy{stroke:#4197ff;stroke-dasharray:187;stroke-dashoffset:46.75;transform-origin:center}@keyframes Spinner-rotate-RMMJ{0%{transform:rotate(0deg)}to{transform:rotate(1turn)}}</style><style type=\"text/css\">.FeedbackForm-form-1uUg{padding:40px 24px 32px;width:100%;font-size:14px;line-height:1.5;font-family:HelveticaNeue-Light,Helvetica,PingFangSC-Light,Hiragino Sans GB,Microsoft YaHei,Arial,sans-serif;color:#404040;box-sizing:border-box}.FeedbackForm-header-3hQI{margin-bottom:26px;text-align:center}.FeedbackForm-title-2uCC{font-size:24px;font-weight:500;line-height:33px;font-family:Helvetica,PingFang SC,Hiragino Sans GB,Microsoft YaHei,Arial,sans-serif}.FeedbackForm-inputBox-15yJ{display:block;padding:12px;width:100%;height:auto;font-size:15px;border:1px solid #e7eaf1;border-radius:3px;box-sizing:border-box;resize:none;outline:none;color:inherit;transition:box-shadow .15s ease-out;overflow:auto}.FeedbackForm-inputBox-15yJ::-webkit-input-placeholder{color:#9aaabf;transition:color .15s ease-out}.FeedbackForm-inputBox-15yJ:-ms-input-placeholder{color:#9aaabf;transition:color .15s ease-out}.FeedbackForm-inputBox-15yJ::placeholder{color:#9aaabf;transition:color .15s ease-out}.FeedbackForm-inputBox-15yJ:hover::-webkit-input-placeholder{color:rgba(154,170,191,.8)}.FeedbackForm-inputBox-15yJ:hover:-ms-input-placeholder{color:rgba(154,170,191,.8)}.FeedbackForm-inputBox-15yJ:hover::placeholder{color:rgba(154,170,191,.8)}.FeedbackForm-inputBox-15yJ:focus{box-shadow:0 0 5px #e7eaf1}.FeedbackForm-inputBox-15yJ:focus::-webkit-input-placeholder{color:rgba(154,170,191,.8)}.FeedbackForm-inputBox-15yJ:focus:-ms-input-placeholder{color:rgba(154,170,191,.8)}.FeedbackForm-inputBox-15yJ:focus::placeholder{color:rgba(154,170,191,.8)}.FeedbackForm-inputBox-15yJ.FeedbackForm-isWarning-2ds-{border-color:#f75659}.FeedbackForm-inputBox-15yJ.FeedbackForm-isWarning-2ds-::-webkit-input-placeholder{color:#f75659}.FeedbackForm-inputBox-15yJ.FeedbackForm-isWarning-2ds-:-ms-input-placeholder{color:#f75659}.FeedbackForm-inputBox-15yJ.FeedbackForm-isWarning-2ds-::placeholder{color:#f75659}.FeedbackForm-inputBox-15yJ.FeedbackForm-isWarning-2ds-:focus{box-shadow:none}.FeedbackForm-screenShot--Gsn{overflow:hidden;box-sizing:border-box;transition:max-height .3s ease,opacity .3s ease}.FeedbackForm-screenShotLabel-2Sgh{padding-top:22px;-webkit-user-select:none;-moz-user-select:none;-ms-user-select:none;user-select:none}.FeedbackForm-canvasContainer-mrde{margin-top:8px;position:relative;background-color:#f6f7f9}.FeedbackForm-canvas-tSGI{display:block;max-width:100%;cursor:url(data:image/png;base64,iVBORw0KGgoAAAANSUhEUgAAABIAAAASCAYAAABWzo5XAAAABGdBTUEAALGPC/xhBQAAARpJREFUOBGdkr1KA0EUhTcxEkSQQIpAihQWPoedD2BnIVsZQiBVEkiR7SwtBDsJqXwBLQwEgoWNjY2FjYUQ38Ei5Oc7sBeGLTKze+Djzsyecxh2N4ryq0zkHpYQQ2H1SW5TNsxukaZzQsewACvTvIBg3eFUaABHMEv3OruBIN3icm8wZl+FZ3iBQ/AqweGW2FrlKlChV0McFsxOvaegm/T2lLzzTC/dqzaO7A1s/8GzE28Dhhj0f1jQnZ+c18CrKxxrcMO2/uK87m3AcAkrsKA7vzlvQJAmuNywrX84bwY1YBrBATyCFWj+QguCJKNCU1DZQ7r/Y55CsK5x2i2eWFcggTPIJd3Eiv5Zd3KlU3OJOQd9lVd4A5Xl1g4YG2GGhwRfegAAAABJRU5ErkJggg==) 0 17,default;cursor:-webkit-image-set(url(data:image/png;base64,iVBORw0KGgoAAAANSUhEUgAAABIAAAASCAYAAABWzo5XAAAABGdBTUEAALGPC/xhBQAAARpJREFUOBGdkr1KA0EUhTcxEkSQQIpAihQWPoedD2BnIVsZQiBVEkiR7SwtBDsJqXwBLQwEgoWNjY2FjYUQ38Ei5Oc7sBeGLTKze+Djzsyecxh2N4ryq0zkHpYQQ2H1SW5TNsxukaZzQsewACvTvIBg3eFUaABHMEv3OruBIN3icm8wZl+FZ3iBQ/AqweGW2FrlKlChV0McFsxOvaegm/T2lLzzTC/dqzaO7A1s/8GzE28Dhhj0f1jQnZ+c18CrKxxrcMO2/uK87m3AcAkrsKA7vzlvQJAmuNywrX84bwY1YBrBATyCFWj+QguCJKNCU1DZQ7r/Y55CsK5x2i2eWFcggTPIJd3Eiv5Zd3KlU3OJOQd9lVd4A5Xl1g4YG2GGhwRfegAAAABJRU5ErkJggg==) 1x,url(data:image/png;base64,iVBORw0KGgoAAAANSUhEUgAAACQAAAAkCAYAAADhAJiYAAAABGdBTUEAALGPC/xhBQAAAn9JREFUWAnFlz1IV2EUxs2+ixCCrCCrIaiGGnLIRdBacqkhtCEbqqVaoqmacpIma6rFHHITh1pKMKFaInATkb4hKChKIwj7rt8D74XDy3tfKM69Hng4zz3nvc9zfH3/93//DQ31xWqsBsEnMAU6wILFSpwnwB+Db/BDoPZYjuMYsMMU/Af1nron2o7hh5KBNNhP0AtqjV24vQPFzsT5F70jVU7UiPhNcNyY7IC/AfEwxfUsvcVmvRtdhNIQkNFvcAoUsQ3yGhRDxLmpWOiZryUMzxqDrfCXiTXjZo0bvZIwKnbhvHHZBH9q1s7Am03fhV42BsUQcb5knDbAp8EzsNHUXWgfKrF52XW/cVwH1265xgXUyszL6gOuExixc/8xjIZ8C9YbHRd6GpWyHcjV33PfTpcJjMgJuJ4xOeNU7yP37DY6LvQoKnrUpwxzNb12tLpMYES64foyzBmnep+5p83ouNCDqHwHKcNc7Qv3tLtMYEQOwPVClTNO9ea5Z7/RcaH7UJFwyjBX0x/Q5TKBEdFWa8tzxqme3gTdX0/3IqrDmDLM1XTodfhdYw9qcyBnnOrpcdDrOglienDpAZYyzNX0oDwJ3GMUxZxxWe+M+yRBcBX53j8OpS9Z9ziM4tKguoJ8B5Tthq1fDPe4p+co3gbLgrLyLWDNY94X1rqnFmN8F64dUiwBIyAeRNd6Za0sjqFsTXWGdJYU+q00DGz/qhpVxg3EraH4Q7AmmDaSB4Hq10Ot0vQimMVDPaLeFJz1A1DvQsqVxmbU40Hs9ST9tZVOYMT1r+gw1zF9ReEx2BI3qrrWp6jTiH+FPwD6pI2BJ6DW0HkYBzNAQ9wH82DB4i/kUnkzGX+skQAAAABJRU5ErkJggg==) 2x) 0 17,default}.FeedbackForm-canvas-tSGI.FeedbackForm-isCapturing-3UFp{display:none}.FeedbackForm-checkLabelWrapper-3B7w{margin-top:12px}.FeedbackForm-checkLabel-2VTb{cursor:pointer;color:#9aaabf;transition:color .15s ease-out;-webkit-user-select:none;-moz-user-select:none;-ms-user-select:none;user-select:none}.FeedbackForm-checkLabel-2VTb:hover{color:rgba(154,170,191,.8)}.FeedbackForm-checkLabel-2VTb input{margin-right:.5em;vertical-align:1px}.FeedbackForm-actions-dJ87{margin-top:40px;text-align:center}.FeedbackForm-submitButton-1oKQ{display:inline-block;min-width:220px;padding:8px 1em;background-color:#0f88eb;border:1px solid #0f88eb;border-radius:3px;font:inherit;color:#fff;transition:background-color .15s ease-out,opacity .15s ease-out;cursor:pointer;outline:none}.FeedbackForm-submitButton-1oKQ[disabled]{opacity:.8;cursor:default}.FeedbackForm-submitButton-1oKQ:hover{background-color:#0d79d1}.FeedbackForm-submitButton-1oKQ:active{opacity:.8}.FeedbackForm-successMask-34go{display:-ms-flexbox;display:flex;-ms-flex-pack:center;justify-content:center;-ms-flex-align:center;align-items:center;position:absolute;top:0;left:0;width:100%;height:100%;background-color:#fff}.FeedbackForm-successTitle-1Y6p{font-size:24px;font-weight:500;line-height:33px;font-family:Helvetica,PingFang SC,Hiragino Sans GB,Microsoft YaHei,Arial,sans-serif;text-align:center}.FeedbackForm-successSubtitle-A_aP{margin-top:10px;font-size:18px;line-height:33px;text-align:center}</style></head><body class=\"EntrySign-body\"><div id=\"root\"><div data-zop-usertoken=\"{}\" data-reactroot=\"\" data-reactid=\"1\" data-react-checksum=\"357764971\"><!-- react-empty: 2 --><div class=\"LoadingBar\" data-reactid=\"3\"></div><!-- react-empty: 4 --><div data-reactid=\"5\"><header role=\"banner\" class=\"Sticky AppHeader\" data-za-module=\"TopNavBar\" data-reactid=\"6\"><!-- react-empty: 145 --><div class=\"AppHeader-inner\" data-reactid=\"8\"><a href=\"//www.zhihu.com\" aria-label=\"知乎\" data-reactid=\"9\"><svg viewBox=\"0 0 200 91\" class=\"Icon ZhihuLogo Icon--logo\" style=\"height:30px;width:64px;\" width=\"64\" height=\"30\" aria-hidden=\"true\" data-reactid=\"10\"><title data-reactid=\"11\"></title><g data-reactid=\"12\"><path d=\"M53.29 80.035l7.32.002 2.41 8.24 13.128-8.24h15.477v-67.98H53.29v67.978zm7.79-60.598h22.756v53.22h-8.73l-8.718 5.473-1.587-5.46-3.72-.012v-53.22zM46.818 43.162h-16.35c.545-8.467.687-16.12.687-22.955h15.987s.615-7.05-2.68-6.97H16.807c1.09-4.1 2.46-8.332 4.1-12.708 0 0-7.523 0-10.085 6.74-1.06 2.78-4.128 13.48-9.592 24.41 1.84-.2 7.927-.37 11.512-6.94.66-1.84.785-2.08 1.605-4.54h9.02c0 3.28-.374 20.9-.526 22.95H6.51c-3.67 0-4.863 7.38-4.863 7.38H22.14C20.765 66.11 13.385 79.24 0 89.62c6.403 1.828 12.784-.29 15.937-3.094 0 0 7.182-6.53 11.12-21.64L43.92 85.18s2.473-8.402-.388-12.496c-2.37-2.788-8.768-10.33-11.496-13.064l-4.57 3.627c1.363-4.368 2.183-8.61 2.46-12.71H49.19s-.027-7.38-2.372-7.38zm128.752-.502c6.51-8.013 14.054-18.302 14.054-18.302s-5.827-4.625-8.556-1.27c-1.874 2.548-11.51 15.063-11.51 15.063l6.012 4.51zm-46.903-18.462c-2.814-2.577-8.096.667-8.096.667s12.35 17.2 12.85 17.953l6.08-4.29s-8.02-11.752-10.83-14.33zM199.99 46.5c-6.18 0-40.908.292-40.953.292v-31.56c1.503 0 3.882-.124 7.14-.376 12.773-.753 21.914-1.25 27.427-1.504 0 0 3.817-8.496-.185-10.45-.96-.37-7.24 1.43-7.24 1.43s-51.63 5.153-72.61 5.64c.5 2.756 2.38 5.336 4.93 6.11 4.16 1.087 7.09.53 15.36.277 7.76-.5 13.65-.76 17.66-.76v31.19h-41.71s.88 6.97 7.97 7.14h33.73v22.16c0 4.364-3.498 6.87-7.65 6.6-4.4.034-8.15-.36-13.027-.566.623 1.24 1.977 4.496 6.035 6.824 3.087 1.502 5.054 2.053 8.13 2.053 9.237 0 14.27-5.4 14.027-14.16V53.93h38.235c3.026 0 2.72-7.432 2.72-7.432z\" fill-rule=\"evenodd\"></path></g></svg></a><nav role=\"navigation\" class=\"AppHeader-nav\" data-reactid=\"13\"><a class=\"AppHeader-navItem\" href=\"//www.zhihu.com/\" data-reactid=\"14\">首页</a><a class=\"AppHeader-navItem\" href=\"//www.zhihu.com/explore\" data-reactid=\"15\">发现</a><a href=\"//www.zhihu.com/topic\" class=\"AppHeader-navItem\" data-reactid=\"16\">话题</a></nav><div class=\"SearchBar\" role=\"search\" data-reactid=\"17\"><div class=\"SearchBar-toolWrapper\" data-reactid=\"18\"><form class=\"SearchBar-tool\" data-reactid=\"19\"><div data-reactid=\"20\"><div class=\"Popover\" data-reactid=\"21\"><div class=\"SearchBar-input Input-wrapper Input-wrapper--grey\" data-reactid=\"22\"><input type=\"text\" maxlength=\"100\" value=\"\" autocomplete=\"off\" role=\"combobox\" aria-expanded=\"false\" aria-autocomplete=\"list\" aria-activedescendant=\"AutoComplet-60330-64266--1\" id=\"Popover-60330-32471-toggle\" aria-haspopup=\"true\" aria-owns=\"Popover-60330-32471-content\" class=\"Input\" placeholder=\"搜索你感兴趣的内容…\" data-reactid=\"23\"><div class=\"Input-after\" data-reactid=\"24\"><button class=\"Button SearchBar-searchIcon Button--primary\" aria-label=\"搜索\" type=\"button\" data-reactid=\"25\"><svg viewBox=\"0 0 16 16\" class=\"Icon Icon--search\" style=\"height:16px;width:16px;\" width=\"16\" height=\"16\" aria-hidden=\"true\" data-reactid=\"26\"><title data-reactid=\"27\"></title><g data-reactid=\"28\"><path d=\"M12.054 10.864c.887-1.14 1.42-2.57 1.42-4.127C13.474 3.017 10.457 0 6.737 0S0 3.016 0 6.737c0 3.72 3.016 6.737 6.737 6.737 1.556 0 2.985-.533 4.127-1.42l3.103 3.104c.765.46 1.705-.37 1.19-1.19l-3.103-3.104zm-5.317.925c-2.786 0-5.053-2.267-5.053-5.053S3.95 1.684 6.737 1.684 11.79 3.95 11.79 6.737 9.522 11.79 6.736 11.79z\"></path></g></svg></button></div></div><!-- react-empty: 29 --></div></div></form></div></div><div class=\"AppHeader-userInfo\" data-reactid=\"30\"><!-- react-empty: 31 --><div class=\"AppHeader-profile\" data-reactid=\"32\"><div data-reactid=\"33\"><button class=\"Button AppHeader-login Button--blue\" type=\"button\" data-reactid=\"34\"><!-- react-text: 35 -->登录<!-- /react-text --></button><button class=\"Button Button--primary Button--blue\" type=\"button\" data-reactid=\"36\"><!-- react-text: 37 -->加入知乎<!-- /react-text --></button></div></div></div></div></header></div><!-- react-empty: 38 --><main role=\"main\" class=\"App-main\" data-reactid=\"39\"><div class=\"SignFlowHomepage\" style=\"background-image:url(https://static.zhihu.com/heifetz/sign_bg.db29b0fbd2f78dd8c1b7.png);\" data-reactid=\"40\"><!-- react-empty: 41 --><div class=\"SignFlowHomepage-content\" data-reactid=\"42\"><div class=\"Card SignContainer-content\" data-reactid=\"43\"><div class=\"SignFlowHeader\" style=\"padding-bottom:5px;\" data-reactid=\"44\"><svg viewBox=\"0 0 200 91\" class=\"Icon ZhihuLogo Icon--logo\" style=\"height:65.625px;width:140px;\" width=\"140\" height=\"65.625\" aria-hidden=\"true\" data-reactid=\"45\"><title data-reactid=\"46\"></title><g data-reactid=\"47\"><path d=\"M53.29 80.035l7.32.002 2.41 8.24 13.128-8.24h15.477v-67.98H53.29v67.978zm7.79-60.598h22.756v53.22h-8.73l-8.718 5.473-1.587-5.46-3.72-.012v-53.22zM46.818 43.162h-16.35c.545-8.467.687-16.12.687-22.955h15.987s.615-7.05-2.68-6.97H16.807c1.09-4.1 2.46-8.332 4.1-12.708 0 0-7.523 0-10.085 6.74-1.06 2.78-4.128 13.48-9.592 24.41 1.84-.2 7.927-.37 11.512-6.94.66-1.84.785-2.08 1.605-4.54h9.02c0 3.28-.374 20.9-.526 22.95H6.51c-3.67 0-4.863 7.38-4.863 7.38H22.14C20.765 66.11 13.385 79.24 0 89.62c6.403 1.828 12.784-.29 15.937-3.094 0 0 7.182-6.53 11.12-21.64L43.92 85.18s2.473-8.402-.388-12.496c-2.37-2.788-8.768-10.33-11.496-13.064l-4.57 3.627c1.363-4.368 2.183-8.61 2.46-12.71H49.19s-.027-7.38-2.372-7.38zm128.752-.502c6.51-8.013 14.054-18.302 14.054-18.302s-5.827-4.625-8.556-1.27c-1.874 2.548-11.51 15.063-11.51 15.063l6.012 4.51zm-46.903-18.462c-2.814-2.577-8.096.667-8.096.667s12.35 17.2 12.85 17.953l6.08-4.29s-8.02-11.752-10.83-14.33zM199.99 46.5c-6.18 0-40.908.292-40.953.292v-31.56c1.503 0 3.882-.124 7.14-.376 12.773-.753 21.914-1.25 27.427-1.504 0 0 3.817-8.496-.185-10.45-.96-.37-7.24 1.43-7.24 1.43s-51.63 5.153-72.61 5.64c.5 2.756 2.38 5.336 4.93 6.11 4.16 1.087 7.09.53 15.36.277 7.76-.5 13.65-.76 17.66-.76v31.19h-41.71s.88 6.97 7.97 7.14h33.73v22.16c0 4.364-3.498 6.87-7.65 6.6-4.4.034-8.15-.36-13.027-.566.623 1.24 1.977 4.496 6.035 6.824 3.087 1.502 5.054 2.053 8.13 2.053 9.237 0 14.27-5.4 14.027-14.16V53.93h38.235c3.026 0 2.72-7.432 2.72-7.432z\" fill-rule=\"evenodd\"></path></g></svg><div class=\"SignFlowHeader-slogen\" data-reactid=\"48\"><!-- react-text: 49 -->登录<!-- /react-text --><!-- react-text: 50 -->知乎，发现更大的世界<!-- /react-text --></div></div><div class=\"SignContainer-inner\" data-reactid=\"51\"><div class=\"Login-content\" data-reactid=\"52\"><form novalidate=\"\" class=\"SignFlow\" data-reactid=\"53\" data-za-detail-view-path-module=\"SignInForm\" data-za-extra-module=\"{&quot;card&quot;:{&quot;content&quot;:null}}\"><div class=\"SignFlow-account\" data-reactid=\"54\"><div class=\"SignFlow-supportedCountriesSelectContainer\" data-reactid=\"55\"></div><div class=\"SignFlowInput SignFlow-accountInputContainer\" data-reactid=\"56\"><div class=\"SignFlow-accountInput Input-wrapper\" data-reactid=\"57\"><input type=\"text\" value=\"\" name=\"username\" class=\"Input\" placeholder=\"手机号或邮箱\" data-reactid=\"58\"></div><div class=\"SignFlowInput-errorMask SignFlowInput-requiredErrorMask SignFlowInput-errorMask--hidden\" data-reactid=\"59\"></div></div></div><div class=\"SignFlow-password\" data-reactid=\"60\"><div class=\"SignFlowInput\" data-reactid=\"61\"><div class=\"Input-wrapper\" data-reactid=\"62\"><input type=\"password\" value=\"\" name=\"password\" class=\"Input\" placeholder=\"密码\" data-reactid=\"63\"></div><div class=\"SignFlowInput-errorMask SignFlowInput-requiredErrorMask SignFlowInput-errorMask--hidden\" data-reactid=\"64\"></div></div><button class=\"Button SignFlow-switchPassword Button--plain\" tabindex=\"-1\" type=\"button\" data-reactid=\"65\"><svg width=\"24\" height=\"20\" viewBox=\"0 0 24 24\" class=\"Icon SignFlow-switchPasswordIcon Icon--inconspicuous\" style=\"vertical-align:middle;height:20px;width:24px;\" aria-hidden=\"true\" data-reactid=\"66\"><title data-reactid=\"67\"></title><g data-reactid=\"68\"><title>Inconspicuous</title><path d=\"M17.007 11.504c0 .65-.13 1.26-.36 1.83l3 3.073S23 14.136 23 11.504C23 8.008 17.255 4 11.995 4c-1.4 0-2.741.25-3.982.701l2.161 2.16c.57-.23 1.18-.36 1.831-.36a5.004 5.004 0 0 1 5.002 5.003zM2.57 4.342l2.067 2.075C3.499 7.258 1 9.119 1 11.504c0 3.336 5.79 7.503 11.005 7.503 1.55 0 3.031-.3 4.382-.84l.42.42 2.125 2.118s.782.571 1.314 0-.074-1.305-.074-1.305L3.955 3.183s-.76-.742-1.385-.19c-.626.554 0 1.35 0 1.35zm4.963 4.96l1.55 1.552c-.05.21-.08.43-.08.65 0 1.66 1.341 3.001 3.002 3.001.22 0 .44-.03.65-.08l1.551 1.551c-.67.33-1.41.53-2.2.53a5.004 5.004 0 0 1-5.003-5.002c0-.79.2-1.53.53-2.201zm4.312-.78l3.151 3.152.02-.16c0-1.66-1.34-3.001-3.001-3.001l-.17.01z\" fill-rule=\"evenodd\"></path></g></svg></button></div><div class=\"Captcha SignFlow-captchaContainer Captcha-chinese\" style=\"width:0px;height:0px;opacity:0;overflow:hidden;margin:0px;padding:0px;border:0px;\" data-reactid=\"69\"><div data-reactid=\"70\"><div class=\"Captcha-chineseOperator\" data-reactid=\"71\"><span class=\"Captcha-info\" data-reactid=\"72\">请点击图中倒立的文字</span><button class=\"Button Captcha-chineseRefreshButton Button--plain\" type=\"button\" data-reactid=\"73\"><svg class=\"Zi Zi--Refresh\" fill=\"currentColor\" viewBox=\"0 0 24 24\" width=\"20\" height=\"20\" data-reactid=\"74\"><path d=\"M20 12.878C20 17.358 16.411 21 12 21s-8-3.643-8-8.122c0-4.044 3.032-7.51 6.954-8.038.034-1.185.012-1.049.012-1.049-.013-.728.461-1.003 1.057-.615l3.311 2.158c.598.39.596 1.026 0 1.418l-3.31 2.181c-.598.393-1.08.12-1.079-.606 0 0 .006-.606-.003-1.157-2.689.51-4.675 2.9-4.675 5.708 0 3.21 2.572 5.822 5.733 5.822 3.163 0 5.733-2.612 5.733-5.822 0-.633.51-1.148 1.134-1.148.625 0 1.133.515 1.133 1.148\" fill-rule=\"evenodd\" data-reactid=\"75\"></path></svg></button></div><div class=\"Captcha-chineseContainer\" data-reactid=\"76\"><img data-tooltip=\"看不清楚？换一张\" class=\"Captcha-chineseImg\" src=\"data:image/jpg;base64,null\" alt=\"图形验证码\" data-reactid=\"77\"></div></div></div><div class=\"Login-options\" data-reactid=\"78\"><button class=\"Button Login-switchType Button--plain\" type=\"button\" data-reactid=\"79\"><!-- react-text: 80 -->手机验证码登录<!-- /react-text --></button><button class=\"Button Login-cannotLogin Button--plain\" type=\"button\" data-reactid=\"81\"><!-- react-text: 82 -->忘记密码？<!-- /react-text --></button></div><button class=\"Button SignFlow-submitButton Button--primary Button--blue\" type=\"submit\" data-reactid=\"83\"><!-- react-text: 84 -->登录<!-- /react-text --></button><div class=\"Login-footer\" data-reactid=\"85\"><span class=\"Login-qrcode\" data-reactid=\"86\"><button class=\"Button Button--plain\" type=\"button\" data-reactid=\"87\"><!-- react-text: 88 -->二维码登录<!-- /react-text --></button></span><span class=\"Login-footerSeparate Login-qrcodeSeparate\" data-reactid=\"89\"> · </span><span class=\"Login-aboardPhone\" data-reactid=\"90\"><button class=\"Button Button--plain\" type=\"button\" data-reactid=\"91\"><!-- react-text: 92 -->海外手机登录<!-- /react-text --></button></span><span class=\"Login-footerSeparate\" data-reactid=\"93\"> · </span><span class=\"Login-socialLogin\" data-reactid=\"94\"><button class=\"Button Login-socialButtonEntrance Button--plain\" type=\"button\" data-reactid=\"95\"><!-- react-text: 96 -->社交帐号登录<!-- /react-text --></button><span class=\"Login-socialButtonGroup Login-socialButtonGroup--hidden\" data-reactid=\"97\"><button class=\"Button Login-socialButton Button--plain\" disabled=\"\" type=\"button\" data-reactid=\"98\"><svg viewBox=\"0 0 20 19\" class=\"Icon Login-socialIcon Icon--wechat\" style=\"height:17px;width:18px;\" width=\"18\" height=\"17\" aria-hidden=\"true\" data-reactid=\"99\"><title data-reactid=\"100\"></title><g data-reactid=\"101\"><path fill-rule=\"evenodd\" d=\"M.224 18.667s4.24-1.825 4.788-2.056C13.03 20.14 20 14.715 20 8.9 20 3.984 15.523 0 10 0S0 3.984 0 8.898c0 1.86.64 3.585 1.737 5.013-.274.834-1.513 4.757-1.513 4.757zM6.167 8.96c.69 0 1.25-.57 1.25-1.27 0-.703-.56-1.272-1.25-1.272s-1.25.57-1.25 1.27c0 .703.56 1.272 1.25 1.272zm7.583 0c.69 0 1.25-.57 1.25-1.27 0-.703-.56-1.272-1.25-1.272s-1.25.57-1.25 1.27c0 .703.56 1.272 1.25 1.272z\"></path></g></svg></button><button class=\"Button Login-socialButton Button--plain\" disabled=\"\" type=\"button\" data-reactid=\"102\"><svg viewBox=\"0 0 22 18\" class=\"Icon Login-socialIcon Icon--weibo\" style=\"height:16px;width:20px;\" width=\"20\" height=\"16\" aria-hidden=\"true\" data-reactid=\"103\"><title data-reactid=\"104\"></title><g data-reactid=\"105\"><g fill-rule=\"evenodd\">     <path d=\"M14.518.06s-.87.644.03 1.71c0 0 6.287-1.19 5.69 6.33 0 0 1.05 1.13 1.674-.31 0 .002 1.44-8.584-7.394-7.73zM4.883 13.17s.038 2.584 3.326 2.584c3.657 0 3.683-2.98 3.683-2.98S12.1 9.67 8.687 9.61c-3.863-.07-3.804 3.56-3.804 3.56zM7.41 14.21c-.668 0-1.214-.447-1.214-.998 0-.55.543-.998 1.215-.998.67 0 1.213.447 1.213.998 0 .55-.54.998-1.212.998z\"></path>     <path d=\"M4.317 4.52C-2.603 10.353.873 14.85.873 14.85c.57 1.01 3.382 3.1 8.596 3.1 5.21 0 9.314-3.628 9.314-6.44 0-2.813-2.918-2.714-2.918-2.714 1.04-1.554.19-2.65.19-2.65-1.684-2.118-5.404-.16-5.407-.158.772-1.717.11-2.797.11-2.797C8.932.66 4.317 4.52 4.317 4.52zm10.448 7.79s-.467 4.16-6.447 4.16c-5.745 0-5.82-3.322-5.842-3.712 0 0-.073-4.423 6.58-4.654 5.94-.204 5.71 4.207 5.71 4.207zM18.65 7.045s1.018-4.37-3.864-3.818c0 0-.628.58.09 1.346 0 0 2.602-.58 2.397 2.598 0 0 .715.885 1.376-.125z\"></path>   </g></g></svg></button><button class=\"Button Login-socialButton Button--plain\" disabled=\"\" type=\"button\" data-reactid=\"106\"><svg width=\"17\" height=\"19\" viewBox=\"0 0 18 20\" xmlns=\"http://www.w3.org/2000/svg\" class=\"Icon Login-socialIcon Icon--qq\" style=\"height:19px;width:17px;\" aria-hidden=\"true\" data-reactid=\"107\"><title data-reactid=\"108\"></title><g data-reactid=\"109\"><title>QQ</title><path d=\"M9.003 0c-2.265 0-6.29 1.364-6.29 7.325V8.52S.55 12.96.55 15.474c0 .665.17 1.025.28 1.025.115 0 .903-.485 1.75-2.073 0 0-.18 2.197 1.903 3.967 0 0-1.77.495-1.77 1.182 0 .686 4.078.43 6.29 0 2.24.425 6.287.687 6.287 0 0-.688-1.768-1.182-1.768-1.182 2.085-1.77 1.905-3.967 1.905-3.967.845 1.588 1.634 2.072 1.746 2.072.11 0 .283-.36.283-1.026 0-2.514-2.166-6.954-2.166-6.954V7.325C15.29 1.365 11.268 0 9.003 0z\" fill-rule=\"evenodd\"></path></g></svg></button></span></span></div></form></div><div class=\"SignContainer-switch\" data-reactid=\"110\"><!-- react-text: 111 -->没有帐号？<!-- /react-text --><span data-reactid=\"112\">注册</span></div><div class=\"SignFlowHomepage-qrImage SignFlowHomepage-qrImageHidden\" data-reactid=\"113\"><div data-reactid=\"114\"></div></div></div></div><button class=\"Button SignFlowHomepage-downloadBtn\" type=\"button\" data-reactid=\"115\"><!-- react-text: 116 -->下载知乎 App<!-- /react-text --></button></div><footer class=\"SignFlowHomepage-footer\" style=\"color:#fff;text-shadow:0 1px 2px #8f9bb3;\" data-reactid=\"117\"><div class=\"ZhihuLinks\" data-reactid=\"118\"><a target=\"_blank\" rel=\"noopener noreferrer\" href=\"https://zhuanlan.zhihu.com\" data-reactid=\"119\">知乎专栏</a><a target=\"_blank\" rel=\"noopener noreferrer\" href=\"/roundtable\" data-reactid=\"120\">圆桌</a><a target=\"_blank\" rel=\"noopener noreferrer\" href=\"/explore\" data-reactid=\"121\">发现</a><a target=\"_blank\" rel=\"noopener noreferrer\" href=\"/app\" data-reactid=\"122\">移动应用</a><a target=\"_blank\" rel=\"noopener noreferrer\" href=\"/contact\" data-reactid=\"123\">联系我们</a><a target=\"_blank\" rel=\"noopener noreferrer\" href=\"/careers\" data-reactid=\"124\">来知乎工作</a><a target=\"_blank\" rel=\"noopener noreferrer\" href=\"/org/signup\" data-reactid=\"125\">注册机构号</a></div><div class=\"ZhihuRights\" data-reactid=\"126\"><span data-reactid=\"127\">© 2018 知乎</span><a target=\"_blank\" rel=\"noopener noreferrer\" href=\"http://www.miibeian.gov.cn/\" data-reactid=\"128\">京 ICP 证 110745 号</a><span data-reactid=\"129\"><!-- react-text: 130 -->京公网安备 11010802010035 号<!-- /react-text --><a href=\"http://zhstatic.zhihu.com/assets/zhihu/publish-license.jpg\" target=\"_blank\" rel=\"noopener noreferrer\" data-reactid=\"131\">出版物经营许可证</a></span></div><div class=\"ZhihuReports\" data-reactid=\"132\"><a target=\"_blank\" rel=\"noopener noreferrer\" href=\"https://zhuanlan.zhihu.com/p/28852607\" data-reactid=\"133\">侵权举报</a><a target=\"_blank\" rel=\"noopener noreferrer\" href=\"http://www.12377.cn\" data-reactid=\"134\">网上有害信息举报专区</a><a target=\"_blank\" rel=\"noopener noreferrer\" href=\"/jubao\" data-reactid=\"135\">儿童色情信息举报专区</a><span data-reactid=\"136\">违法和不良信息举报：010-82716601</span></div><div class=\"ZhihuIntegrity\" data-reactid=\"137\"><div data-reactid=\"138\"><img src=\"https://static.zhihu.com/static/revved/img/index/chengxing_logo@2x.65dc76e8.png\" alt=\"诚信网站示范企业\" data-reactid=\"139\"><a href=\"https://credit.szfw.org/CX20170607038331320388.html\" data-reactid=\"140\">诚信网站示范企业</a></div></div></footer></div></main><!-- react-empty: 141 --><!-- react-empty: 142 --><!-- react-empty: 143 --><div class=\"CornerButtons\"><div class=\"CornerAnimayedFlex\"><button class=\"Button CornerButton Button--plain\" data-tooltip=\"建议反馈\" data-tooltip-position=\"left\" aria-label=\"建议反馈\" type=\"button\"><svg class=\"Zi Zi--Feedback\" title=\"建议反馈\" fill=\"currentColor\" viewBox=\"0 0 24 24\" width=\"24\" height=\"24\"><path d=\"M19.99 6.99L18 5s-1-1-2-1H8C7 4 6 5 6 5L4 7S3 8 3 9v9s0 2 2.002 2H19c2 0 2-2 2-2V9c0-1-1.01-2.01-1.01-2.01zM16.5 5.5L19 8H5l2.5-2.5h9zm-2 5.5s.5 0 .5.5-.5.5-.5.5h-5s-.5 0-.5-.5.5-.5.5-.5h5z\"></path></svg></button></div><div class=\"CornerAnimayedFlex CornerAnimayedFlex--hidden\"><button class=\"Button CornerButton Button--plain\" data-tooltip=\"回到顶部\" data-tooltip-position=\"left\" aria-label=\"回到顶部\" type=\"button\"><svg class=\"Zi Zi--BackToTop\" title=\"回到顶部\" fill=\"currentColor\" viewBox=\"0 0 24 24\" width=\"24\" height=\"24\"><path d=\"M16.036 19.59a1 1 0 0 1-.997.995H9.032a.996.996 0 0 1-.997-.996v-7.005H5.03c-1.1 0-1.36-.633-.578-1.416L11.33 4.29a1.003 1.003 0 0 1 1.412 0l6.878 6.88c.782.78.523 1.415-.58 1.415h-3.004v7.005z\"></path></svg></button></div></div></div></div><script src=\"https://static.zhihu.com/heifetz/vendor.d063778094ddaa35854a.js\"></script><script src=\"https://static.zhihu.com/heifetz/main.raven.36cbf6bc7211f79edae1.js\" async=\"\"></script><script src=\"https://static.zhihu.com/heifetz/main.app.8b22d658c49d5af6c5de.js\"></script><script></script><div><div data-reactroot=\"\" style=\"display: none;\">想来知乎工作？请发送邮件到 jobs@zhihu.com</div></div><span><div></div></span></body></html>'"
      ]
     },
     "execution_count": 10,
     "metadata": {},
     "output_type": "execute_result"
    }
   ],
   "source": [
    "driver_1.page_source"
   ]
  },
  {
   "cell_type": "code",
   "execution_count": 9,
   "metadata": {},
   "outputs": [
    {
     "data": {
      "text/plain": [
       "[]"
      ]
     },
     "execution_count": 9,
     "metadata": {},
     "output_type": "execute_result"
    }
   ],
   "source": [
    "driver_1.find_elements_by_css_selector('.List-item')"
   ]
  },
  {
   "cell_type": "code",
   "execution_count": null,
   "metadata": {},
   "outputs": [],
   "source": []
  }
 ],
 "metadata": {
  "kernelspec": {
   "display_name": "Python 3",
   "language": "python",
   "name": "python3"
  },
  "language_info": {
   "codemirror_mode": {
    "name": "ipython",
    "version": 3
   },
   "file_extension": ".py",
   "mimetype": "text/x-python",
   "name": "python",
   "nbconvert_exporter": "python",
   "pygments_lexer": "ipython3",
   "version": "3.6.4"
  }
 },
 "nbformat": 4,
 "nbformat_minor": 2
}
