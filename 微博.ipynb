{
 "cells": [
  {
   "cell_type": "code",
   "execution_count": 4,
   "metadata": {},
   "outputs": [],
   "source": [
    "from selenium import webdriver\n",
    "import time\n",
    "browser = webdriver.Firefox()\n",
    "browser.get(\"https://weibo.com/\")\n",
    "time.sleep(20)\n",
    "browser.find_element_by_css_selector('.W_input').send_keys('陶崇园')\n",
    "browser.find_element_by_css_selector('.W_ficon.ficon_search.S_ficon').click()\n",
    "lists = browser.find_elements_by_css_selector('.WB_feed_detail.clearfix')"
   ]
  },
  {
   "cell_type": "code",
   "execution_count": 5,
   "metadata": {},
   "outputs": [],
   "source": [
    "open_text = browser.find_elements_by_css_selector('.WB_text_opt')\n",
    "for all_text in open_text:\n",
    "    all_text.click()"
   ]
  },
  {
   "cell_type": "code",
   "execution_count": 7,
   "metadata": {
    "scrolled": true
   },
   "outputs": [],
   "source": [
    "import unicodecsv as csv\n",
    "csv_file = open('weibo.csv','wb+') \n",
    "writer = csv.writer(csv_file) \n",
    "writer.writerow(['微博内容','转发','评论','点赞']) \n",
    "ul_li = browser.find_elements_by_css_selector('.feed_action_info.feed_action_row4')"
   ]
  },
  {
   "cell_type": "code",
   "execution_count": 8,
   "metadata": {},
   "outputs": [],
   "source": [
    "for i in range(len(ul_li)):\n",
    "    li = ul_li[i].find_elements_by_css_selector('li')\n",
    "    if len(lists[i].find_elements_by_css_selector('.feed_content.wbcon p')) == 2:\n",
    "        writer.writerow([lists[i].find_elements_by_css_selector('.feed_content.wbcon p')[1].text.replace('\\n',''),li[1].text,li[2].text,'赞'+li[3].text])\n",
    "    else:\n",
    "        writer.writerow([lists[i].find_element_by_css_selector('.feed_content.wbcon p').text.replace('\\n',''),li[1].text,li[2].text,'赞'+li[3].text])\n",
    "csv_file.close()"
   ]
  },
  {
   "cell_type": "code",
   "execution_count": 30,
   "metadata": {},
   "outputs": [],
   "source": []
  },
  {
   "cell_type": "code",
   "execution_count": null,
   "metadata": {},
   "outputs": [],
   "source": []
  },
  {
   "cell_type": "code",
   "execution_count": 1,
   "metadata": {},
   "outputs": [],
   "source": [
    "from selenium import webdriver\n",
    "import time\n",
    "browser = webdriver.Firefox()\n",
    "browser.get(\"http://cas.nuaa.edu.cn/authserver/login?service=http://dxpx.nuaa.edu.cn/user/cas_login/login\")"
   ]
  },
  {
   "cell_type": "code",
   "execution_count": 2,
   "metadata": {},
   "outputs": [],
   "source": [
    "browser.find_element_by_css_selector('#username').send_keys('sx1709050')\n",
    "browser.find_element_by_css_selector('#password').send_keys('280075')\n",
    "browser.find_element_by_css_selector('div.auth_tab_content_item:nth-child(1) > form:nth-child(1) > p:nth-child(5) > button:nth-child(1)').click()"
   ]
  },
  {
   "cell_type": "code",
   "execution_count": 3,
   "metadata": {},
   "outputs": [],
   "source": [
    "browser.find_element_by_css_selector('.head_top_left > ul:nth-child(1) > li:nth-child(2) > a:nth-child(1)').click()"
   ]
  },
  {
   "cell_type": "code",
   "execution_count": 4,
   "metadata": {},
   "outputs": [],
   "source": [
    "browser.find_element_by_css_selector('.lesson_c_ul > li:nth-child(1) > div:nth-child(3) > a:nth-child(1)').click()"
   ]
  },
  {
   "cell_type": "code",
   "execution_count": 5,
   "metadata": {},
   "outputs": [],
   "source": [
    "browser.find_element_by_css_selector('.wrap_left_list > ul:nth-child(1) > li:nth-child(4) > div:nth-child(1) > a:nth-child(1)').click()"
   ]
  },
  {
   "cell_type": "code",
   "execution_count": null,
   "metadata": {},
   "outputs": [],
   "source": [
    "browser.get('http://dxpx.nuaa.edu.cn/jjfz/lesson/play?v_id=707&r_id=1264&r=resources&t=4')"
   ]
  },
  {
   "cell_type": "code",
   "execution_count": 23,
   "metadata": {},
   "outputs": [],
   "source": [
    "url = 'http://dxpx.nuaa.edu.cn/jjfz/lesson/play?v_id=707&r_id=' + str(1258)  +'&r=resources&t=4'"
   ]
  },
  {
   "cell_type": "code",
   "execution_count": 6,
   "metadata": {},
   "outputs": [],
   "source": [
    "a = 1260\n",
    "for i in range(30):\n",
    "    time.sleep(480)\n",
    "    url = 'http://dxpx.nuaa.edu.cn/jjfz/lesson/play?v_id=707&r_id=' + str(a) + '&r=resources&t=4'\n",
    "    browser.get(url)\n",
    "    a = a+1"
   ]
  },
  {
   "cell_type": "code",
   "execution_count": null,
   "metadata": {},
   "outputs": [],
   "source": []
  }
 ],
 "metadata": {
  "kernelspec": {
   "display_name": "Python 3",
   "language": "python",
   "name": "python3"
  },
  "language_info": {
   "codemirror_mode": {
    "name": "ipython",
    "version": 3
   },
   "file_extension": ".py",
   "mimetype": "text/x-python",
   "name": "python",
   "nbconvert_exporter": "python",
   "pygments_lexer": "ipython3",
   "version": "3.6.5"
  }
 },
 "nbformat": 4,
 "nbformat_minor": 2
}
